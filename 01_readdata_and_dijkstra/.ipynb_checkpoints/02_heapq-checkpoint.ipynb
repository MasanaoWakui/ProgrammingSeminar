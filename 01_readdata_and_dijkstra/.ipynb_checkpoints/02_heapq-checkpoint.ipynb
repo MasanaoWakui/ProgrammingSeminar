{
 "cells": [
  {
   "cell_type": "code",
   "execution_count": 24,
   "id": "c7b0e8cf-cb23-499f-9302-e9350f6bba7e",
   "metadata": {},
   "outputs": [],
   "source": [
    "import os\n",
    "import numpy as np\n",
    "import networkx as nx\n",
    "import csv\n",
    "import time\n",
    "import pandas as pd\n",
    "import copy\n",
    "\n",
    "from heapq import heapify, heappush, heappop"
   ]
  },
  {
   "cell_type": "markdown",
   "id": "784069e7-db93-47f8-9085-d818985d388a",
   "metadata": {},
   "source": [
    "# Heap を導入\n",
    "**「優先度付きキュー」と呼ばれる．**\n",
    "**値が最小の要素を高速で取り出せる．**\n",
    "\n",
    "**Pythonでは \"heapq\" というモジュールを使う．**"
   ]
  },
  {
   "cell_type": "code",
   "execution_count": 41,
   "id": "1a531626-6bd9-45d7-9acb-b4548f0fc816",
   "metadata": {},
   "outputs": [],
   "source": [
    "hq = [(5, 102), (0, 101), (7, 103), (3, \"abc\"), (11, \"def\")]"
   ]
  },
  {
   "cell_type": "code",
   "execution_count": 42,
   "id": "677e4973-6e0e-4612-a7bf-81c9829a6c9a",
   "metadata": {},
   "outputs": [
    {
     "data": {
      "text/plain": [
       "[(5, 102), (0, 101), (7, 103), (3, 'abc'), (11, 'def')]"
      ]
     },
     "execution_count": 42,
     "metadata": {},
     "output_type": "execute_result"
    }
   ],
   "source": [
    "hq"
   ]
  },
  {
   "cell_type": "code",
   "execution_count": 43,
   "id": "a13575fd-7053-4a02-979b-f591424933ee",
   "metadata": {},
   "outputs": [],
   "source": [
    "# リストをheap構造に変換する（各要素の1つ目の数字に基づく）\n",
    "heapify(hq)"
   ]
  },
  {
   "cell_type": "code",
   "execution_count": 44,
   "id": "06912a5c-e351-4de9-8d97-3a2e3153e820",
   "metadata": {},
   "outputs": [
    {
     "data": {
      "text/plain": [
       "[(0, 101), (3, 'abc'), (7, 103), (5, 102), (11, 'def')]"
      ]
     },
     "execution_count": 44,
     "metadata": {},
     "output_type": "execute_result"
    }
   ],
   "source": [
    "hq"
   ]
  },
  {
   "cell_type": "code",
   "execution_count": 45,
   "id": "a8abca0c-fb2c-4ccd-a5a6-ab06d7d2bafb",
   "metadata": {},
   "outputs": [],
   "source": [
    "# heap構造を保持しながら要素を追加できる\n",
    "heappush(hq, (1, \"--Push--\"))"
   ]
  },
  {
   "cell_type": "code",
   "execution_count": 46,
   "id": "0dccf65d-46d1-4a70-957e-3336c36743b6",
   "metadata": {},
   "outputs": [
    {
     "data": {
      "text/plain": [
       "[(0, 101), (3, 'abc'), (1, '--Push--'), (5, 102), (11, 'def'), (7, 103)]"
      ]
     },
     "execution_count": 46,
     "metadata": {},
     "output_type": "execute_result"
    }
   ],
   "source": [
    "hq"
   ]
  },
  {
   "cell_type": "code",
   "execution_count": 47,
   "id": "4329fd1a-e6e1-4363-9b13-f078da4ea561",
   "metadata": {},
   "outputs": [
    {
     "data": {
      "text/plain": [
       "101"
      ]
     },
     "execution_count": 47,
     "metadata": {},
     "output_type": "execute_result"
    }
   ],
   "source": [
    "# heap構造を保持しながら，最初の要素（つまり値が最小のやつ）を取り出してくる\n",
    "minimum = heappop(hq)[1]# ← この [1] は (0, 101) の中の 101 のこと\n",
    "minimum"
   ]
  },
  {
   "cell_type": "code",
   "execution_count": 48,
   "id": "8f9993e2-5b09-46ec-808b-e800bf491797",
   "metadata": {},
   "outputs": [
    {
     "data": {
      "text/plain": [
       "[(1, '--Push--'), (3, 'abc'), (7, 103), (5, 102), (11, 'def')]"
      ]
     },
     "execution_count": 48,
     "metadata": {},
     "output_type": "execute_result"
    }
   ],
   "source": [
    "hq"
   ]
  },
  {
   "cell_type": "code",
   "execution_count": 49,
   "id": "2248601c-ab9f-4f87-b132-7639e2506a12",
   "metadata": {},
   "outputs": [
    {
     "name": "stdout",
     "output_type": "stream",
     "text": [
      "--Push--\n",
      "abc\n",
      "102\n",
      "103\n",
      "def\n"
     ]
    }
   ],
   "source": [
    "# リスト hq の中身がなくなるまでループ\n",
    "while hq:\n",
    "    minimum = heappop(hq)[1]\n",
    "    print(minimum)"
   ]
  },
  {
   "cell_type": "code",
   "execution_count": null,
   "id": "bfe0f2b1-8de8-48c7-a2b4-8b6bffe01702",
   "metadata": {},
   "outputs": [],
   "source": []
  },
  {
   "cell_type": "markdown",
   "id": "2e01065e-dd96-4dd8-9871-a1f5f8f87f4a",
   "metadata": {},
   "source": [
    "# 課題：\n",
    "## Heap 構造を使ってダイクストラ法を作ってくる．\n",
    "\n",
    "- まず紹介したN, Lを使って，heapを使わないダイクストラ法を作る．\n",
    "\n",
    "- 次に，heapを使ってダイクストラ法を作る．\n",
    "\n",
    "- 最後に，前回と今回のダイクストラ法を大きい（1000リンクくらいの）ネットワークに適用して速さを確認する．"
   ]
  },
  {
   "cell_type": "markdown",
   "id": "ce172995-0666-4f46-b92d-7bbce3986972",
   "metadata": {},
   "source": [
    "ネットワークのデータは[ここ](https://github.com/bstabler/TransportationNetworks)から落としてくる．"
   ]
  },
  {
   "cell_type": "code",
   "execution_count": null,
   "id": "84fe2d21-a166-4e18-9349-027cbd0dfbd1",
   "metadata": {},
   "outputs": [],
   "source": []
  }
 ],
 "metadata": {
  "kernelspec": {
   "display_name": "Python 3",
   "language": "python",
   "name": "python3"
  },
  "language_info": {
   "codemirror_mode": {
    "name": "ipython",
    "version": 3
   },
   "file_extension": ".py",
   "mimetype": "text/x-python",
   "name": "python",
   "nbconvert_exporter": "python",
   "pygments_lexer": "ipython3",
   "version": "3.8.8"
  }
 },
 "nbformat": 4,
 "nbformat_minor": 5
}
