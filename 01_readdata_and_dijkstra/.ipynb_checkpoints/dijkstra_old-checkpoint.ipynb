{
  "nbformat": 4,
  "nbformat_minor": 0,
  "metadata": {
    "colab": {
      "name": "dijkstra.ipynb",
      "provenance": [],
      "collapsed_sections": []
    },
    "kernelspec": {
      "name": "python3",
      "display_name": "Python 3"
    },
    "language_info": {
      "name": "python"
    }
  },
  "cells": [
    {
      "cell_type": "code",
      "execution_count": null,
      "metadata": {
        "colab": {
          "base_uri": "https://localhost:8080/"
        },
        "id": "NjubgQENEE88",
        "outputId": "05fae35d-f27d-4755-b9de-77e9be4c13b6"
      },
      "outputs": [
        {
          "output_type": "stream",
          "name": "stdout",
          "text": [
            "最小ノードコストのノード: A そのコスト: 0\n",
            "最小ノードコストのノード: F そのコスト: 2\n",
            "最小ノードコストのノード: C そのコスト: 3\n",
            "最小ノードコストのノード: E そのコスト: 3\n",
            "最小ノードコストのノード: D そのコスト: 6\n",
            "最小ノードコストのノード: H そのコスト: 7\n",
            "最小ノードコストのノード: B そのコスト: 8\n",
            "---------------\n",
            "計算終了\n",
            "{'A': 0, 'B': 8, 'C': 3, 'D': 6, 'E': 3, 'F': 2, 'H': 7}\n"
          ]
        }
      ],
      "source": [
        "# ネットワークとリンク旅行時間の定義\n",
        "nodes =['A','B','C','D','E','F','H']\n",
        "link_tt = {\n",
        "  'A':{'C':3,'F':2},\n",
        "  'B':{'D':2,'E':5},\n",
        "  'C':{'A':3,'F':8,'D':7},\n",
        "  'D':{'C':7,'H':4,'E':3},\n",
        "  'E':{'H':6,'D':3,'B':5},\n",
        "  'F':{'A':2,'C':8,'H':5,'E':1},\n",
        "  'H':{'C':5,'D':4,'F':5,'E':6}\n",
        "}\n",
        "\n",
        "# 無限大の代わり\n",
        "inf = 100000\n",
        "\n",
        "# ノードコスト c_i\n",
        "nodeCosts = {}\n",
        "# non-determinedなノードのリスト\n",
        "nodesNondet = {}\n",
        "\n",
        "# ノードコストの初期化\n",
        "for node in nodes:\n",
        "  nodeCosts[node] = inf\n",
        "  nodesNondet[node] = True\n",
        "\n",
        "# 起点ノードのノードコストを決める\n",
        "nodeCosts['A'] = 0\n",
        "\n",
        "while True:\n",
        "\n",
        "  # non-determinedのノードの中から最小のノードコストを持つものを探す\n",
        "  minCost = inf\n",
        "  minCostNode = ''\n",
        "  for node in nodesNondet.keys():\n",
        "    if minCost > nodeCosts[node]:\n",
        "      minCost = nodeCosts[node]\n",
        "      minCostNode = node\n",
        "  \n",
        "  # 最小ノードコストを持つノードをdeterminedにする\n",
        "  print ('最小ノードコストのノード:',minCostNode,'そのコスト:',minCost)\n",
        "  del nodesNondet[minCostNode]\n",
        "\n",
        "  # non-determinedのノードがなければおしまい\n",
        "  if len(nodesNondet) == 0:\n",
        "    break\n",
        "  \n",
        "  # 最小ノードコストのノードの隣接ノードのノードコストを更新する\n",
        "  for nextNode in link_tt[minCostNode].keys():\n",
        "    newCost = minCost + link_tt[minCostNode][nextNode]\n",
        "    if newCost < nodeCosts[nextNode] :\n",
        "      #print (\"・ノード\",nextNode,\"のコストを\",newCost,\"に更新\")\n",
        "      nodeCosts[nextNode] = newCost\n",
        "\n",
        "print (\"---------------\")\n",
        "print (\"計算終了\")\n",
        "print (nodeCosts)"
      ]
    }
  ]
}