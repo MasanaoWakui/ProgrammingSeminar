{
 "cells": [
  {
   "cell_type": "markdown",
   "id": "d3c99848-65f3-48e2-8f0f-5a5ea67cc8e3",
   "metadata": {},
   "source": [
    "# 第２回　UE 配分を解く Frank-Wolfe 法"
   ]
  },
  {
   "cell_type": "markdown",
   "id": "9320b1cc-45c9-4760-a806-414060e5567d",
   "metadata": {},
   "source": [
    "## アルゴリズム\n",
    "\n",
    "**Step 0.** 初期リンク費用を使って All or Nothing 配分を行い，初期リンク交通量 **x**^1 を計算．n := 1．\n",
    "\n",
    "**Step 1.** **x**^n からリンク旅行時間 **t**^n を計算．\n",
    "\n",
    "**Step 2.**  **t**^n を基に All or Nothing 配分を行い，補助解 **y**^n を計算．\n",
    "\n",
    "**Step 3.** min z(**x**^n + α(**y**^n - **x**^n)) s.t. 0 <= α <= 1 で α を計算．\n",
    "\n",
    "**Step 4.** **x**^(n+1) := **x**^n + α(**y**^n - **x**^n で解を更新．\n",
    "\n",
    "**Step 5.** 収束判定．満たせば終了，そうでなければ n := n + 1 として Step 1. へ．"
   ]
  },
  {
   "cell_type": "markdown",
   "id": "83b644e1-1d2b-4165-aa7a-78d95407b8f2",
   "metadata": {},
   "source": [
    "---"
   ]
  },
  {
   "cell_type": "markdown",
   "id": "2a58325f-7731-49f2-b9b0-1db9985291f9",
   "metadata": {},
   "source": [
    "## 考えるべき事項"
   ]
  },
  {
   "cell_type": "markdown",
   "id": "233dd8f2-6801-4e31-8b12-4354dd2d3f59",
   "metadata": {},
   "source": [
    "### リンクパフォーマンス関数について\n",
    "\n",
    "何を使ってもいいけど，今回は **BPR 関数**を使う．これなら積分も解析的にできるよね．\n",
    "\n",
    "**BPR 関数**：$t_a = t_a^0 \\left[ 1 + \\left(\\frac{x_a}{c_a} \\right)^{5}\\right]$，ただし $t_a^0$：リンク a の自由走行時間，$x_a$：リンク a のフロー，$c_a$：リンク a の容量．"
   ]
  },
  {
   "cell_type": "markdown",
   "id": "c4e678be-8a83-48eb-be02-c159164676b5",
   "metadata": {},
   "source": [
    "### Step 4. の一次元探索について\n",
    "\n",
    "これも何でもいい．黄金分割法，二分法，アルミホのルールなどがある．それぞれ作ってみて速さ比較してもいいかも．"
   ]
  },
  {
   "cell_type": "code",
   "execution_count": null,
   "id": "3aeea338-6355-4534-9425-2d84bae1aea3",
   "metadata": {},
   "outputs": [],
   "source": []
  },
  {
   "cell_type": "code",
   "execution_count": null,
   "id": "3c0e4fb9-fe91-4600-a15a-31b6a5492607",
   "metadata": {},
   "outputs": [],
   "source": []
  },
  {
   "cell_type": "markdown",
   "id": "a5e24419-67d6-4daf-913f-f5a92d501b84",
   "metadata": {},
   "source": [
    "# 課題：\n",
    "\n",
    "## UE 配分を解く Frank-Wolfe 法を作ってくる．\n",
    "\n",
    "- Frank-Wolfe 法の大枠は，N, L, 交通需要情報を input，リンクフローを output とする「関数」として設計すること（N, Lに覚えさせる情報は適宜変更してよい）．\n",
    "\n",
    "- All or Nothing 配分，ダイクストラ法，一次元探索など，それぞれの操作も独立した「関数」として設計すること（関数の中で関数を呼び出す，みたいな構造になるはず）．\n",
    "\n",
    "需要の情報も[例のサイト](https://github.com/bstabler/TransportationNetworks)に公開されているので，それを使う．"
   ]
  },
  {
   "cell_type": "code",
   "execution_count": null,
   "id": "e509859a-6150-4171-9ef5-e8faf880bc03",
   "metadata": {},
   "outputs": [],
   "source": []
  }
 ],
 "metadata": {
  "kernelspec": {
   "display_name": "Python 3 (ipykernel)",
   "language": "python",
   "name": "python3"
  },
  "language_info": {
   "codemirror_mode": {
    "name": "ipython",
    "version": 3
   },
   "file_extension": ".py",
   "mimetype": "text/x-python",
   "name": "python",
   "nbconvert_exporter": "python",
   "pygments_lexer": "ipython3",
   "version": "3.9.7"
  }
 },
 "nbformat": 4,
 "nbformat_minor": 5
}
