{
 "cells": [
  {
   "cell_type": "code",
   "execution_count": 1,
   "id": "26a2d54b-a12e-4db5-88b8-fc689466269e",
   "metadata": {},
   "outputs": [],
   "source": [
    "import os\n",
    "import numpy as np\n",
    "import networkx as nx\n",
    "import csv\n",
    "import time\n",
    "import pandas as pd\n",
    "import copy"
   ]
  },
  {
   "cell_type": "markdown",
   "id": "06efc75f-b688-43f3-92ea-2951c9025038",
   "metadata": {},
   "source": [
    "## 課題１.  Heapクラス作成\n",
    "\n",
    "---"
   ]
  },
  {
   "cell_type": "code",
   "execution_count": 26,
   "id": "58b3006c-f16b-4de7-a66c-826461118ded",
   "metadata": {},
   "outputs": [],
   "source": [
    "class heap:\n",
    "    def __init__(self, node_list):\n",
    "        self.h_list = []\n",
    "        length = len(node_list)\n",
    "        for i in range(length):\n",
    "            self.heappush(node_list[i])\n",
    "            print(self.h_list)\n",
    "    \n",
    "    \n",
    "    def swap(self, j, k):\n",
    "        self.h_list[j], self.h_list[k] = self.h_list[k], self.h_list[j]\n",
    "    \n",
    "    \n",
    "    def heappush(self, item):\n",
    "        self.h_list.append(item)\n",
    "        length = len(self.h_list)\n",
    "        son = length - 1\n",
    "        while True:\n",
    "            par = (son - 1)//2\n",
    "            if par < 0:\n",
    "                break\n",
    "            elif self.h_list[son] < self.h_list[par]:\n",
    "                self.swap(son, par)\n",
    "                son = par\n",
    "            else:\n",
    "                break\n",
    "    \n",
    "    \n",
    "    def heappop(self):\n",
    "        tail = self.h_list.pop(-1)\n",
    "        if self.h_list == []:\n",
    "            return tail\n",
    "        \n",
    "        # 最後尾要素を先頭へ\n",
    "        pop_item       = self.h_list[0]\n",
    "        self.h_list[0] = tail\n",
    "        \n",
    "        length = len(self.h_list)\n",
    "        \n",
    "        # 上からヒープ作り直し\n",
    "        par = 0\n",
    "        while True:\n",
    "            son = par*2 + 1\n",
    "            if son >= length:\n",
    "                break\n",
    "            elif son+1 == length:\n",
    "                if self.h_list[son] < self.h_list[par]:\n",
    "                    self.swap(son, par)\n",
    "                    par = son\n",
    "                else:\n",
    "                    break\n",
    "            else:\n",
    "                if self.h_list[son] < self.h_list[son+1]:\n",
    "                    if self.h_list[son] < self.h_list[par]:\n",
    "                        self.swap(son, par)\n",
    "                        par = son\n",
    "                    else:\n",
    "                        break\n",
    "                else:\n",
    "                    if self.h_list[son+1] < self.h_list[par]:\n",
    "                        self.swap(son+1, par)\n",
    "                        par = son + 1\n",
    "                    else:\n",
    "                        break\n",
    "            \n",
    "        return pop_item"
   ]
  },
  {
   "cell_type": "code",
   "execution_count": 21,
   "id": "041541a9-6a1c-4046-9fb5-c3df475ad801",
   "metadata": {},
   "outputs": [],
   "source": [
    "a = [1, 9, 5, 2, 8, 10, 3, 4, 7, 6]"
   ]
  },
  {
   "cell_type": "code",
   "execution_count": 22,
   "id": "0f86ba87-13ee-49e0-a323-bc4fe148abbd",
   "metadata": {},
   "outputs": [
    {
     "name": "stdout",
     "output_type": "stream",
     "text": [
      "[1]\n",
      "[1, 9]\n",
      "[1, 9, 5]\n",
      "[1, 2, 5, 9]\n",
      "[1, 2, 5, 9, 8]\n",
      "[1, 2, 5, 9, 8, 10]\n",
      "[1, 2, 3, 9, 8, 10, 5]\n",
      "[1, 2, 3, 4, 8, 10, 5, 9]\n",
      "[1, 2, 3, 4, 8, 10, 5, 9, 7]\n",
      "[1, 2, 3, 4, 6, 10, 5, 9, 7, 8]\n"
     ]
    }
   ],
   "source": [
    "h = heap(a)"
   ]
  },
  {
   "cell_type": "code",
   "execution_count": 23,
   "id": "79f0dcd6-4c62-4dd5-a122-9c6e601b3579",
   "metadata": {},
   "outputs": [],
   "source": [
    "h.heappush(1)"
   ]
  },
  {
   "cell_type": "code",
   "execution_count": 24,
   "id": "963bd6ee-8f71-41dc-b81b-3f80b36527f7",
   "metadata": {},
   "outputs": [
    {
     "data": {
      "text/plain": [
       "[1, 1, 3, 4, 2, 10, 5, 9, 7, 8, 6]"
      ]
     },
     "execution_count": 24,
     "metadata": {},
     "output_type": "execute_result"
    }
   ],
   "source": [
    "h.h_list"
   ]
  },
  {
   "cell_type": "code",
   "execution_count": 25,
   "id": "2d9a9924-7aa5-4227-a869-0a6c7e0698db",
   "metadata": {},
   "outputs": [
    {
     "name": "stdout",
     "output_type": "stream",
     "text": [
      "1\n",
      "[1, 2, 3, 4, 6, 10, 5, 9, 7, 8]\n",
      "1\n",
      "[2, 4, 3, 7, 6, 10, 5, 9, 8]\n",
      "2\n",
      "[3, 4, 5, 7, 6, 10, 8, 9]\n",
      "3\n",
      "[4, 6, 5, 7, 9, 10, 8]\n",
      "4\n",
      "[5, 6, 8, 7, 9, 10]\n",
      "5\n",
      "[6, 7, 8, 10, 9]\n",
      "6\n",
      "[7, 9, 8, 10]\n",
      "7\n",
      "[8, 9, 10]\n",
      "8\n",
      "[9, 10]\n",
      "9\n",
      "[10]\n",
      "10\n",
      "[]\n"
     ]
    }
   ],
   "source": [
    "while h.h_list:\n",
    "    print(h.heappop())\n",
    "    print(h.h_list)"
   ]
  },
  {
   "cell_type": "code",
   "execution_count": null,
   "id": "4f3e3b68-43e9-4d90-bffd-b89800f6802d",
   "metadata": {},
   "outputs": [],
   "source": []
  }
 ],
 "metadata": {
  "kernelspec": {
   "display_name": "Python 3 (ipykernel)",
   "language": "python",
   "name": "python3"
  },
  "language_info": {
   "codemirror_mode": {
    "name": "ipython",
    "version": 3
   },
   "file_extension": ".py",
   "mimetype": "text/x-python",
   "name": "python",
   "nbconvert_exporter": "python",
   "pygments_lexer": "ipython3",
   "version": "3.9.7"
  }
 },
 "nbformat": 4,
 "nbformat_minor": 5
}
