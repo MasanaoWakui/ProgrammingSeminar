{
 "cells": [
  {
   "cell_type": "markdown",
   "id": "f38651ff-f100-4349-9e07-314e43b244e7",
   "metadata": {},
   "source": [
    "# 第５回　確率的均衡配分のアルゴリズム\n",
    "---\n",
    "\n",
    "### 確率的利用者均衡（SUE）について，部分線形化法で解くプログラムを書く．\n",
    "### ほぼ Frank-Wolfe と同じ．"
   ]
  },
  {
   "cell_type": "markdown",
   "id": "15a032fa-2e6c-4842-bef0-caae63765e13",
   "metadata": {},
   "source": [
    "## SUEの等価最適化問題\n",
    "\n",
    "\\begin{align}\n",
    "    & \\min_{{x}} && \\sum_{ij}\\int_0^{x_ij}t_{ij}({w})\\mathrm{d}{w} - \\frac{1}{\\theta}\\sum_r\\left\\{ -\\sum_{ij}x_{ij}^r\\ln x_{ij}^r + \\sum_j\\left( \\sum_i x_{ij}^r \\right) \\ln \\left( \\sum_i x_{ij}^r \\right) \\right\\}\\\\\n",
    "    & \\text{subject to} && \\sum_i x_{ik}^r - \\sum_j x_{kj}^r + \\sum_s q_{rs}\\delta_{sk} - q_{rs}\\delta_{sk} = 0 &&& \\forall k\\in N, \\forall r \\in R\\\\\n",
    "    & && x_{ij} = \\sum_{r}x_{ij}^r &&& \\forall (ij) \\in A\\\\\n",
    "    & && x_{ij}^r \\geq 0 &&& \\forall (ij) \\in A, \\forall r \\in R\n",
    "\\end{align}"
   ]
  },
  {
   "cell_type": "markdown",
   "id": "51e53b07-3065-4d61-a0b4-c4025f781b7a",
   "metadata": {},
   "source": [
    "## 部分線形化法アルゴリズム（青本 9 章も参照）\n",
    "\n",
    "**Step 0.** $n := 0$．リンクコスト$t^0$を自由流状態に定め，これを用いて初期交通量$x^0$を，Dial配分により決定．\n",
    "\n",
    "**Step 1.** 現在の交通状態からリンクコストを改訂し，$t^n$とする．\n",
    "\n",
    "**Step 2.**  $t^n$に対してDial配分により交通量を求め，その解を$y^n$とする．また降下方向ベクトルを$d^n := y^n - x^n$で定める．\n",
    "\n",
    "**Step 3.**  次の一次元探索より$\\alpha$を決定：\n",
    "\n",
    "\\begin{align}\n",
    "    & \\min_{\\alpha} && Z(x^n + \\alpha d^n)\\\\\n",
    "    & \\text{subject to} && 0\\leq \\alpha \\leq 1\n",
    "\\end{align}\n",
    "\n",
    "**Step 4.**  $x^{n+1} := x^n + \\alpha d^n$より解を更新．\n",
    "\n",
    "**Step 5.**  収束判定．満たせば終了，そうでなければ$n := n + 1$とし **Step 1.** へ．\n"
   ]
  },
  {
   "cell_type": "markdown",
   "id": "5ee6652c-511b-480d-94bc-4c46342885a8",
   "metadata": {},
   "source": [
    "---\n",
    "\n",
    "# 課題：\n",
    "\n",
    "## 任意のネットワークで SUE の部分線形化法が計算できるコードを作ってくる．\n",
    "\n",
    "- Dial さえできてればそんなかからないはず．\n",
    "\n",
    "- Frank-Wolfe 法と同じく，なるべく一般性のあるコードを書いてね．\n"
   ]
  },
  {
   "cell_type": "code",
   "execution_count": null,
   "id": "aab55bdd-7191-4e9f-a950-243488eeaed9",
   "metadata": {},
   "outputs": [],
   "source": []
  }
 ],
 "metadata": {
  "kernelspec": {
   "display_name": "Python 3 (ipykernel)",
   "language": "python",
   "name": "python3"
  },
  "language_info": {
   "codemirror_mode": {
    "name": "ipython",
    "version": 3
   },
   "file_extension": ".py",
   "mimetype": "text/x-python",
   "name": "python",
   "nbconvert_exporter": "python",
   "pygments_lexer": "ipython3",
   "version": "3.9.7"
  }
 },
 "nbformat": 4,
 "nbformat_minor": 5
}
