{
 "cells": [
  {
   "cell_type": "markdown",
   "id": "40d0c00c-24c3-43a3-ba55-45f384777d19",
   "metadata": {},
   "source": [
    "# 第４回　確率的配分のアルゴリズム\n",
    "---\n",
    "\n",
    "### 確定的な静的配分が完成（？）したところで，今回からはそれを拡張した確率的配分のお話．\n",
    "### 「確率的利用者均衡（SUE）」に行く前に，確率的なネットワーク配分問題を考える．"
   ]
  },
  {
   "cell_type": "markdown",
   "id": "83ded446-f5b5-4554-8fa0-1dadc9ddef2e",
   "metadata": {},
   "source": [
    "## ネットワーク配分とは？\n",
    "\n",
    "- ネットワーク上の移動コストが与えられたときに，それぞれの人がどの道を選ぶか，という問題\n",
    "    - すなわち「コストは与件の定数」であることに注意\n",
    "    \n",
    "- 均衡配分問題（フローとコストが相互に作用しあう問題）の部分問題になる\n",
    "    - 確定的配分では「All or Nothing 配分」がまさにネットワーク配分問題\n",
    "    \n",
    "- 確率的配分におけるネットワーク配分の代表例は「Dial 配分」"
   ]
  },
  {
   "cell_type": "markdown",
   "id": "cee611a0-6add-486f-a192-4c4dd226352d",
   "metadata": {},
   "source": [
    "## Dial のアルゴリズム（Sheffi 11 章も参照）\n",
    "\n",
    "**Step 0.** ネットワーク上に起点を１つとる．各リンクについて“リンク尤度” $L(i, j)$ を以下のように計算．\n",
    "\n",
    "\\begin{equation}\n",
    "L(i, j) = \n",
    "\\begin{cases}\n",
    "e^{[\\pi_j - \\pi_i - c_{ij}^0]} & \\text{if }\\pi_i^0 < \\pi_j^0\\\\\n",
    "0 & \\text{otherwise}\n",
    "\\end{cases}\n",
    "\\end{equation}\n",
    "\n",
    "**Step 1.** $\\pi_i^0$ が小さいノードから順に，そのノードから延びる各リンクに関する“リンク重み” $w(i, j)\\text{ for each }j \\in \\mathscr{O}_i, \\forall i$ を以下のように計算．\n",
    "\n",
    "\\begin{equation}\n",
    "w(i, j) = \n",
    "\\begin{cases}\n",
    "L(i, j) & \\text{if }i = \\text{origin node}\\\\\n",
    "L(i, j)\\sum_{m\\in \\mathscr{I}_i} w(m, i)& \\text{otherwise}\n",
    "\\end{cases}\n",
    "\\end{equation}\n",
    "\n",
    "**Step 2.**  $\\pi_j^0$ が大きいノードから順に，そのノードへ延びる各リンクに関するリンク交通量 $x(i, j)\\text{ for each }i \\in \\mathscr{I}_j, \\forall j$ を以下のように計算．計算が起点までたどり着いたら終了．\n",
    "\n",
    "\\begin{equation}\n",
    "x(i, j) = \\left[\\sum_{m\\in\\mathscr{O}_j}x(i, j) + q_j \\right]\\frac{w(i, j)}{\\sum_{m\\in\\mathscr{I}_j}w(m, j)}\n",
    "\\end{equation}\n",
    "\n",
    "※ここで $\\mathscr{O}_i, \\mathscr{I}_j$ はそれぞれノード $i, j$ の inlink, outlink の集合．$q_j$ は考えている起点からノード $j$ への OD 需要．$\\pi_i$ は起点からノード $i$ までの最短所要時間．$c_{ij}^0$ はリンク $(i, j)$ の ff-time．"
   ]
  },
  {
   "cell_type": "code",
   "execution_count": null,
   "id": "7143e868-f3c2-404e-ae07-a87a56cf1138",
   "metadata": {},
   "outputs": [],
   "source": []
  },
  {
   "cell_type": "markdown",
   "id": "789fec99-0f45-4135-8083-2c7b5d4ba816",
   "metadata": {},
   "source": [
    "# 課題：\n",
    "\n",
    "## 任意のネットワークで Dial の配分を行うアルゴリズムを作ってくる．\n",
    "\n",
    "- 大枠はこれまで同様，N, L, 交通需要情報などを input，リンクフローを output とする「関数」として設計すること（N, Lに覚えさせる情報は適宜変更してよい）．\n",
    "\n",
    "- とりあえず一つの起点について解くアルゴリズムを作って，それを全起点で for 文にすれば一般的に完成．\n"
   ]
  },
  {
   "cell_type": "code",
   "execution_count": null,
   "id": "06716403-95ff-499d-9625-4813a048ee1e",
   "metadata": {},
   "outputs": [],
   "source": []
  }
 ],
 "metadata": {
  "kernelspec": {
   "display_name": "Python 3 (ipykernel)",
   "language": "python",
   "name": "python3"
  },
  "language_info": {
   "codemirror_mode": {
    "name": "ipython",
    "version": 3
   },
   "file_extension": ".py",
   "mimetype": "text/x-python",
   "name": "python",
   "nbconvert_exporter": "python",
   "pygments_lexer": "ipython3",
   "version": "3.9.7"
  }
 },
 "nbformat": 4,
 "nbformat_minor": 5
}
